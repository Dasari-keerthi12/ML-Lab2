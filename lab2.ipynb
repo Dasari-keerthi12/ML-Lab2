{
 "cells": [
  {
   "cell_type": "code",
   "execution_count": 3,
   "id": "88a9fe40-2b4f-4794-91cb-42544e8d070b",
   "metadata": {},
   "outputs": [
    {
     "name": "stdin",
     "output_type": "stream",
     "text": [
      "Enter the first vector:  23 24\n",
      "Enter the second vector:  45 56\n"
     ]
    },
    {
     "name": "stdout",
     "output_type": "stream",
     "text": [
      "Euclidean distance: 38.8329756778952\n",
      "Manhattan distance: 54.0\n"
     ]
    }
   ],
   "source": [
    "import math\n",
    "def euclidean_distance(vector1, vector2):\n",
    "    if len(vector1) != len(vector2):\n",
    "        raise ValueError(\"Vectors must have the same dimension\")\n",
    "    squared_diff = [(x - y) ** 2 for x, y in zip(vector1, vector2)]\n",
    "    sum_squared_diff = sum(squared_diff)\n",
    "    return math.sqrt(sum_squared_diff)\n",
    "def manhattan_distance(vector1, vector2):\n",
    "    if len(vector1) != len(vector2):\n",
    "        raise ValueError(\"Vectors must have the same dimension\")\n",
    "    sum_absolute_diff = sum(abs(x - y) for x, y in zip(vector1, vector2))\n",
    "    return sum_absolute_diff\n",
    "if __name__ == \"__main__\":\n",
    "    vector1 = list(map(float, input(\"Enter the first vector: \").split()))\n",
    "    vector2 = list(map(float, input(\"Enter the second vector: \").split()))\n",
    "    euclidean_dist = euclidean_distance(vector1, vector2)\n",
    "    manhattan_dist = manhattan_distance(vector1, vector2)\n",
    "    print(\"Euclidean distance:\", euclidean_dist)\n",
    "    print(\"Manhattan distance:\", manhattan_dist)\n"
   ]
  },
  {
   "cell_type": "code",
   "execution_count": 5,
   "id": "37ef7690-6169-4a4b-929a-6e917feef284",
   "metadata": {},
   "outputs": [
    {
     "name": "stdin",
     "output_type": "stream",
     "text": [
      "Enter the number of training data points:  5\n",
      "Enter data point 1 (separated by spaces):  1 2\n",
      "Enter label for data point 1:  A\n",
      "Enter data point 2 (separated by spaces):  3 4\n",
      "Enter label for data point 2:  B\n",
      "Enter data point 3 (separated by spaces):  2 3\n",
      "Enter label for data point 3:  B\n",
      "Enter data point 4 (separated by spaces):  2 5\n",
      "Enter label for data point 4:  A\n",
      "Enter data point 5 (separated by spaces):  1 4\n",
      "Enter label for data point 5:  A\n",
      "Enter the test instance (separated by spaces):  5 3\n",
      "Enter the value of k:  3\n"
     ]
    },
    {
     "name": "stdout",
     "output_type": "stream",
     "text": [
      "Predicted label: B\n"
     ]
    }
   ],
   "source": [
    "import math\n",
    "def euclidean_distance(vector1, vector2):\n",
    "    if len(vector1) != len(vector2):\n",
    "        raise ValueError(\"Vectors must have the same dimension\")\n",
    "    squared_diff = [(x - y) ** 2 for x, y in zip(vector1, vector2)]\n",
    "    sum_squared_diff = sum(squared_diff)\n",
    "    return math.sqrt(sum_squared_diff)\n",
    "def knn_classifier(training_data, test_instance, k):\n",
    "    distances = []\n",
    "    for train_point, label in training_data:\n",
    "        dist = euclidean_distance(train_point, test_instance)\n",
    "        distances.append((dist, label))\n",
    "    distances.sort()\n",
    "    neighbors = distances[:k]\n",
    "    votes = {}\n",
    "    for _, label in neighbors:\n",
    "        votes[label] = votes.get(label, 0) + 1\n",
    "    predicted_label = max(votes, key=votes.get)\n",
    "    return predicted_label\n",
    "if __name__ == \"__main__\":\n",
    "    training_data = []\n",
    "    num_train_points = int(input(\"Enter the number of training data points: \"))\n",
    "    for i in range(num_train_points):\n",
    "        point = list(map(float, input(f\"Enter data point {i+1}: \").split()))\n",
    "        label = input(f\"Enter label for data point {i+1}: \")\n",
    "        training_data.append((point, label))\n",
    "    test_instance = list(map(float, input(\"Enter the test instance: \").split()))\n",
    "    k = int(input(\"Enter the value of k: \"))\n",
    "    predicted_label = knn_classifier(training_data, test_instance, k)\n",
    "    print(\"Predicted label:\", predicted_label)\n"
   ]
  },
  {
   "cell_type": "code",
   "execution_count": 6,
   "id": "7a6457a1-0ff9-406a-8e04-c9046d0f5bf4",
   "metadata": {},
   "outputs": [
    {
     "name": "stdin",
     "output_type": "stream",
     "text": [
      "Enter categorical variables :  kee anju kee bin kee\n"
     ]
    },
    {
     "name": "stdout",
     "output_type": "stream",
     "text": [
      "Label Mapping:\n",
      "anju: 0\n",
      "bin: 1\n",
      "kee: 2\n",
      "Encoded Data: [2, 0, 2, 1, 2]\n"
     ]
    }
   ],
   "source": [
    "def label_encoding(categories):\n",
    "    unique_categories = sorted(set(categories))\n",
    "    label_mapping = {category: index for index, category in enumerate(unique_categories)}\n",
    "    return label_mapping\n",
    "def apply_label_encoding(data, label_mapping):\n",
    "    encoded_data = [label_mapping[category] for category in data]\n",
    "    return encoded_data\n",
    "if __name__ == \"__main__\":\n",
    "    categorical_data = input(\"Enter categorical variables : \").split()\n",
    "    label_mapping = label_encoding(categorical_data)\n",
    "    encoded_data = apply_label_encoding(categorical_data, label_mapping)\n",
    "    print(\"Label Mapping:\")\n",
    "    for category, label in label_mapping.items():\n",
    "        print(f\"{category}: {label}\")\n",
    "    print(\"Encoded Data:\", encoded_data)\n"
   ]
  },
  {
   "cell_type": "code",
   "execution_count": 7,
   "id": "aabd30b2-3bf9-43de-a051-d76a8b18d5c1",
   "metadata": {},
   "outputs": [
    {
     "name": "stdin",
     "output_type": "stream",
     "text": [
      "Enter categorical variables:  kee anju bon kee bon\n"
     ]
    },
    {
     "name": "stdout",
     "output_type": "stream",
     "text": [
      "Encoding Dictionary:\n",
      "anju: [1, 0, 0]\n",
      "bon: [0, 1, 0]\n",
      "kee: [0, 0, 1]\n",
      "Encoded Data: [[0, 0, 1], [1, 0, 0], [0, 1, 0], [0, 0, 1], [0, 1, 0]]\n"
     ]
    }
   ],
   "source": [
    "def one_hot_encoding(categories):\n",
    "    unique_categories = sorted(set(categories))\n",
    "    encoding_dict = {}\n",
    "    for i, category in enumerate(unique_categories):\n",
    "        encoding = [0] * len(unique_categories)\n",
    "        encoding[i] = 1\n",
    "        encoding_dict[category] = encoding\n",
    "    return encoding_dict\n",
    "def apply_one_hot_encoding(data, encoding_dict):\n",
    "    encoded_data = [encoding_dict[category] for category in data]\n",
    "    return encoded_data\n",
    "if __name__ == \"__main__\":\n",
    "    categorical_data = input(\"Enter categorical variables: \").split()\n",
    "    encoding_dict = one_hot_encoding(categorical_data)\n",
    "    encoded_data = apply_one_hot_encoding(categorical_data, encoding_dict)\n",
    "    print(\"Encoding Dictionary:\")\n",
    "    for category, encoding in encoding_dict.items():\n",
    "        print(f\"{category}: {encoding}\")\n",
    "    print(\"Encoded Data:\", encoded_data)\n"
   ]
  },
  {
   "cell_type": "code",
   "execution_count": null,
   "id": "12ef28ac-0d03-4631-8b71-fa5daddfeb11",
   "metadata": {},
   "outputs": [],
   "source": []
  }
 ],
 "metadata": {
  "kernelspec": {
   "display_name": "Python 3 (ipykernel)",
   "language": "python",
   "name": "python3"
  },
  "language_info": {
   "codemirror_mode": {
    "name": "ipython",
    "version": 3
   },
   "file_extension": ".py",
   "mimetype": "text/x-python",
   "name": "python",
   "nbconvert_exporter": "python",
   "pygments_lexer": "ipython3",
   "version": "3.11.4"
  }
 },
 "nbformat": 4,
 "nbformat_minor": 5
}
